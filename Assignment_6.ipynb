{
 "cells": [
  {
   "cell_type": "markdown",
   "id": "5384db0b",
   "metadata": {},
   "source": [
    "## 1. What are escape characters, and how do you use them?\n",
    " Escape Characters:\n",
    "•\tEscape characters in Python are special characters preceded by a backslash (`\\`) in a string. They are used to represent characters that are difficult to include directly in a string, such as special characters, control characters, or characters that have a special meaning in string formatting.\n",
    "•\tExample: `'\\n'` represents a newline character, and `'\\\\'` represents a literal backslash.\n"
   ]
  },
  {
   "cell_type": "markdown",
   "id": "bf783ffb",
   "metadata": {},
   "source": [
    "## 2. What do the escape characters n and t stand for?\n",
    "Escape Characters 'n' and 't':\n",
    "•\t`'n'` stands for a newline character. It is used to create a new line in the text.\n",
    "•\t`'t'` stands for a tab character. It is used to insert a horizontal tab or space in the text.\n"
   ]
  },
  {
   "cell_type": "markdown",
   "id": "316c21a4",
   "metadata": {},
   "source": [
    "## 3. What is the way to include backslash characters in a string?\n",
    "Including Backslash Characters:\n",
    "•\tTo include a literal backslash (`\\`) in a string, you need to escape it by using a double backslash (`\\\\`).\n",
    "•\tExample: `'This is a backslash: \\\\\\\\'` will produce the string `'This is a backslash: \\\\'`.\n"
   ]
  },
  {
   "cell_type": "markdown",
   "id": "d4ca08d7",
   "metadata": {},
   "source": [
    "## 4. The string \"Howl's Moving Castle\" is a correct value. Why isn't the single quote character in the word Howl's not escaped a problem?\n",
    "Single Quote in \"Howl's Moving Castle\":\n",
    "•\tThe single quote character in the word \"Howl's\" is not escaped because the string itself is enclosed in double quotes (`\"`) rather than single quotes (`'`). In Python, you can use double quotes to create strings that contain single quotes without needing to escape them, and vice versa.\n",
    "•\tExample: `\"Howl's Moving Castle\"` is a correct string representation.\n"
   ]
  },
  {
   "cell_type": "markdown",
   "id": "7422ac46",
   "metadata": {},
   "source": [
    "## 5. How do you write a string of newlines if you don't want to use the n character?\n",
    "String of Newlines Without '\\n':\n",
    "•\tIf you want to include newlines in a string without using the `'\\n'` escape sequence, you can use triple-quoted strings (either triple single quotes `'''` or triple double quotes `\"\"\"`) to create multi-line strings.\n",
    "- Example:\n"
   ]
  },
  {
   "cell_type": "code",
   "execution_count": 2,
   "id": "cfb1d2a1",
   "metadata": {},
   "outputs": [],
   "source": [
    "multiline_string = '''\n",
    "This is a\n",
    "multi-line\n",
    "string\n",
    "'''\n"
   ]
  },
  {
   "cell_type": "markdown",
   "id": "13a40739",
   "metadata": {},
   "source": [
    "## 6. What are the values of the given expressions?\n",
    "'Hello, world!'[1]\n",
    "'Hello, world!'[0:5]\n",
    "'Hello, world!'[:5]\n",
    "'Hello, world!'[3:]\n",
    "\n",
    "Values of Expressions:\n",
    "•\t`'Hello, world!'[1]` returns `'e'` because it accesses the character at index 1 (Python uses 0-based indexing).\n",
    "•\t`'Hello, world!'[0:5]` returns `'Hello'` because it extracts the characters from index 0 to 4 (not including 5).\n",
    "•\t`'Hello, world!'[:5]` returns `'Hello'` because it starts from the beginning of the string and goes up to index 4.\n",
    "•\t`'Hello, world!'[3:]` returns `'lo, world!'` because it starts from index 3 and goes to the end of the string.\n"
   ]
  },
  {
   "cell_type": "markdown",
   "id": "daff4071",
   "metadata": {},
   "source": [
    "## 7. What are the values of the following expressions?\n",
    "'Hello'.upper()\n",
    "'Hello'.upper().isupper()\n",
    "'Hello'.upper().lower()\n",
    "Values of Expressions:\n",
    "•\t`'Hello'.upper()` returns `'HELLO'` because it converts the string to uppercase.\n",
    "•\t`'Hello'.upper().isupper()` returns `True` because it checks if the string is in uppercase.\n",
    "•\t`'Hello'.upper().lower()` returns `'hello'` because it first converts to uppercase and then to lowercase.\n"
   ]
  },
  {
   "cell_type": "markdown",
   "id": "eb8e02f0",
   "metadata": {},
   "source": [
    "## 8. What are the values of the following expressions?\n",
    "'Remember, remember, the fifth of July.'.split()\n",
    "'-'.join('There can only one.'.split())\n",
    " Values of Expressions:\n",
    "•\t`'Remember, remember, the fifth of July.'.split()` splits the string into a list of words using whitespace as the delimiter. Result: `['Remember,', 'remember,', 'the', 'fifth', 'of', 'July.']`.\n",
    "•\t`'-'.join('There can only one.'.split())` splits the string into words and then joins them using a hyphen as the separator. Result: `'There-can-only-one.'`.\n"
   ]
  },
  {
   "cell_type": "markdown",
   "id": "94a77cc5",
   "metadata": {},
   "source": [
    "## 9. What are the methods for right-justifying, left-justifying, and centering a string?\n",
    "String Justification Methods:\n",
    "•\tTo right-justify a string, you can use the `str.rjust()` method.\n",
    "•\tTo left-justify a string, you can use the `str.ljust()` method.\n",
    "•\tTo center-align a string, you can use the `str.center()` method.\n",
    "\n",
    "   Example:\n"
   ]
  },
  {
   "cell_type": "code",
   "execution_count": 3,
   "id": "b3b8e11f",
   "metadata": {},
   "outputs": [],
   "source": [
    "text = 'Hello'\n",
    "right_aligned = text.rjust(10)  # Right-justified, padded with spaces\n",
    "left_aligned = text.ljust(10)    # Left-justified, padded with spaces\n",
    "center_aligned = text.center(10)  # Center-aligned, padded with spaces\n"
   ]
  },
  {
   "cell_type": "markdown",
   "id": "57cf9a70",
   "metadata": {},
   "source": [
    "## 10. What is the best way to remove whitespace characters from the start or end?\n",
    "Removing Whitespace:\n",
    "•\tTo remove leading and trailing whitespace characters from a string, you can use the `str.strip()` method.\n",
    "•\tTo remove only leading whitespace, use `str.lstrip()`.\n",
    "•\tTo remove only trailing whitespace, use `str.rstrip()`.\n",
    "\n",
    "    Example:\n"
   ]
  },
  {
   "cell_type": "code",
   "execution_count": 4,
   "id": "86b37840",
   "metadata": {},
   "outputs": [],
   "source": [
    "text = '  Hello, world!  '\n",
    "trimmed = text.strip()  # Removes leading and trailing spaces\n",
    "ltrimmed = text.lstrip()  # Removes leading spaces\n",
    "rtrimmed = text.rstrip()  # Removes trailing spaces\n"
   ]
  },
  {
   "cell_type": "code",
   "execution_count": null,
   "id": "db6723e1",
   "metadata": {},
   "outputs": [],
   "source": []
  },
  {
   "cell_type": "code",
   "execution_count": null,
   "id": "cf82718f",
   "metadata": {},
   "outputs": [],
   "source": []
  },
  {
   "cell_type": "code",
   "execution_count": null,
   "id": "aadbf8fd",
   "metadata": {},
   "outputs": [],
   "source": []
  }
 ],
 "metadata": {
  "kernelspec": {
   "display_name": "Python 3 (ipykernel)",
   "language": "python",
   "name": "python3"
  },
  "language_info": {
   "codemirror_mode": {
    "name": "ipython",
    "version": 3
   },
   "file_extension": ".py",
   "mimetype": "text/x-python",
   "name": "python",
   "nbconvert_exporter": "python",
   "pygments_lexer": "ipython3",
   "version": "3.9.12"
  }
 },
 "nbformat": 4,
 "nbformat_minor": 5
}
